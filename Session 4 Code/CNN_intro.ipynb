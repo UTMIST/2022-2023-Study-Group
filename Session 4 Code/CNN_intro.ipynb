{
 "cells": [
  {
   "cell_type": "markdown",
   "source": [
    "# 1. Understand the structure of image data"
   ],
   "metadata": {
    "collapsed": false,
    "pycharm": {
     "name": "#%% md\n"
    }
   }
  },
  {
   "cell_type": "code",
   "execution_count": 9,
   "metadata": {
    "collapsed": true,
    "pycharm": {
     "name": "#%%\n"
    }
   },
   "outputs": [
    {
     "data": {
      "text/plain": "-1"
     },
     "execution_count": 9,
     "metadata": {},
     "output_type": "execute_result"
    }
   ],
   "source": [
    "import cv2\n",
    "img = cv2.imread('meme.jpg')\n",
    "\n",
    "cv2.imshow('original', img)\n",
    "cv2.waitKey()"
   ]
  },
  {
   "cell_type": "code",
   "execution_count": 12,
   "outputs": [
    {
     "name": "stdout",
     "output_type": "stream",
     "text": [
      "(967, 1131, 3)\n",
      "[[[  0   0 253]\n",
      "  [  0   0 253]\n",
      "  [  0   0 253]\n",
      "  ...\n",
      "  [  0   0 253]\n",
      "  [  0   0 253]\n",
      "  [  0   0 253]]\n",
      "\n",
      " [[  0   0 253]\n",
      "  [  0   0 253]\n",
      "  [  0   0 253]\n",
      "  ...\n",
      "  [  0   0 254]\n",
      "  [  0   0 254]\n",
      "  [  0   0 254]]\n",
      "\n",
      " [[  0   0 253]\n",
      "  [  0   0 253]\n",
      "  [  0   0 253]\n",
      "  ...\n",
      "  [  0   0 254]\n",
      "  [  0   0 254]\n",
      "  [  0   0 254]]\n",
      "\n",
      " ...\n",
      "\n",
      " [[  0   0 254]\n",
      "  [  0   0 254]\n",
      "  [  0   0 254]\n",
      "  ...\n",
      "  [  0   0 253]\n",
      "  [  0   0 253]\n",
      "  [  0   0 253]]\n",
      "\n",
      " [[  0   0 254]\n",
      "  [  0   0 254]\n",
      "  [  0   0 254]\n",
      "  ...\n",
      "  [  0   0 254]\n",
      "  [  0   0 254]\n",
      "  [  0   0 253]]\n",
      "\n",
      " [[  0   0 255]\n",
      "  [  0   0 255]\n",
      "  [  0   0 255]\n",
      "  ...\n",
      "  [  0   0 254]\n",
      "  [  0   0 254]\n",
      "  [  0   0 253]]]\n"
     ]
    }
   ],
   "source": [
    "# check img config\n",
    "print(img.shape)\n",
    "print(img)\n",
    "print(img)"
   ],
   "metadata": {
    "collapsed": false,
    "pycharm": {
     "name": "#%%\n"
    }
   }
  },
  {
   "cell_type": "code",
   "execution_count": 13,
   "outputs": [
    {
     "data": {
      "text/plain": "-1"
     },
     "execution_count": 13,
     "metadata": {},
     "output_type": "execute_result"
    }
   ],
   "source": [
    "img = cv2.imread('meme.jpg')\n",
    "\n",
    "# Set blue and green channels to 0\n",
    "img[:,:,0] = 0\n",
    "img[:,:,1] = 0\n",
    "\n",
    "cv2.imshow('red', img)\n",
    "cv2.waitKey()"
   ],
   "metadata": {
    "collapsed": false,
    "pycharm": {
     "name": "#%%\n"
    }
   }
  },
  {
   "cell_type": "code",
   "execution_count": 16,
   "outputs": [
    {
     "data": {
      "text/plain": "-1"
     },
     "execution_count": 16,
     "metadata": {},
     "output_type": "execute_result"
    }
   ],
   "source": [
    "img = cv2.imread('meme.jpg')\n",
    "p_factor = 0.3\n",
    "for i in range(3):\n",
    "    img[:,:,i] = img[:,:,i] *p_factor\n",
    "\n",
    "cv2.imshow('pale', img)\n",
    "cv2.waitKey()"
   ],
   "metadata": {
    "collapsed": false,
    "pycharm": {
     "name": "#%%\n"
    }
   }
  },
  {
   "cell_type": "markdown",
   "source": [
    "# 2. MNIST keras example"
   ],
   "metadata": {
    "collapsed": false,
    "pycharm": {
     "name": "#%% md\n"
    }
   }
  },
  {
   "cell_type": "code",
   "execution_count": null,
   "outputs": [],
   "source": [
    "# https://github.com/christianversloot/machine-learning-articles/blob/main/how-to-create-a-basic-mlp-classifier-with-the-keras-sequential-api.md\n",
    "# Imports\n",
    "import tensorflow\n",
    "from tensorflow.keras.datasets import mnist\n",
    "from tensorflow.keras.models import Sequential\n",
    "from tensorflow.keras.layers import Dense\n",
    "from tensorflow.keras.utils import to_categorical\n",
    "\n",
    "# Configuration options\n",
    "feature_vector_length = 784\n",
    "num_classes = 10\n",
    "\n",
    "# Load the data\n",
    "(X_train, Y_train), (X_test, Y_test) = mnist.load_data()\n",
    "\n",
    "# Reshape the data - MLPs do not understand such things as '2D'.\n",
    "# Reshape to 28 x 28 pixels = 784 features\n",
    "X_train = X_train.reshape(X_train.shape[0], feature_vector_length)\n",
    "X_test = X_test.reshape(X_test.shape[0], feature_vector_length)\n",
    "\n",
    "# Convert into greyscale\n",
    "X_train = X_train.astype('float32')\n",
    "X_test = X_test.astype('float32')\n",
    "X_train /= 255\n",
    "X_test /= 255\n",
    "\n",
    "# Convert target classes to categorical ones\n",
    "Y_train = to_categorical(Y_train, num_classes)\n",
    "Y_test = to_categorical(Y_test, num_classes)\n",
    "\n",
    "# Set the input shape\n",
    "input_shape = (feature_vector_length,)\n",
    "print(f'Feature shape: {input_shape}')\n",
    "\n",
    "# Create the model\n",
    "model = Sequential()\n",
    "model.add(Dense(350, input_shape=input_shape, activation='relu'))\n",
    "model.add(Dense(50, activation='relu'))\n",
    "model.add(Dense(num_classes, activation='softmax'))\n",
    "\n",
    "# Configure the model and start training\n",
    "model.compile(loss='categorical_crossentropy', optimizer='adam', metrics=['accuracy'])\n",
    "model.fit(X_train, Y_train, epochs=10, batch_size=250, verbose=1, validation_split=0.2)\n",
    "\n",
    "# Test the model after training\n",
    "test_results = model.evaluate(X_test, Y_test, verbose=1)\n",
    "print(f'Test results - Loss: {test_results[0]} - Accuracy: {test_results[1]}%')"
   ],
   "metadata": {
    "collapsed": false,
    "pycharm": {
     "name": "#%%\n"
    }
   }
  }
 ],
 "metadata": {
  "kernelspec": {
   "display_name": "Python 3",
   "language": "python",
   "name": "python3"
  },
  "language_info": {
   "codemirror_mode": {
    "name": "ipython",
    "version": 2
   },
   "file_extension": ".py",
   "mimetype": "text/x-python",
   "name": "python",
   "nbconvert_exporter": "python",
   "pygments_lexer": "ipython2",
   "version": "2.7.6"
  }
 },
 "nbformat": 4,
 "nbformat_minor": 0
}